{
  "nbformat": 4,
  "nbformat_minor": 0,
  "metadata": {
    "colab": {
      "name": "sne2114_midterm.ipynb",
      "provenance": [],
      "collapsed_sections": [],
      "authorship_tag": "ABX9TyOvMPJhPv1KxQxbhgI6+/Di",
      "include_colab_link": true
    },
    "kernelspec": {
      "name": "python3",
      "display_name": "Python 3"
    },
    "language_info": {
      "name": "python"
    }
  },
  "cells": [
    {
      "cell_type": "markdown",
      "metadata": {
        "id": "view-in-github",
        "colab_type": "text"
      },
      "source": [
        "<a href=\"https://colab.research.google.com/github/SalNel97/qmss_python_midterm/blob/main/sne2114_midterm.ipynb\" target=\"_parent\"><img src=\"https://colab.research.google.com/assets/colab-badge.svg\" alt=\"Open In Colab\"/></a>"
      ]
    },
    {
      "cell_type": "markdown",
      "metadata": {
        "id": "_jIXJNuMHFmH"
      },
      "source": [
        "**QMSS S5073**\n",
        "# ***Midterm***\n",
        "**Salah El-Sadek (sne2114)**\n",
        "\n",
        "---"
      ]
    },
    {
      "cell_type": "code",
      "metadata": {
        "id": "eve6b5GUjFMZ"
      },
      "source": [
        "%matplotlib inline\n",
        "\n",
        "import warnings\n",
        "warnings.simplefilter(\"ignore\", UserWarning)\n",
        "\n",
        "# Importing relevant libraries\n",
        "import numpy as np\n",
        "import scipy as sp\n",
        "import pandas as pd\n",
        "import matplotlib as mpl\n",
        "import seaborn as sns\n",
        "\n",
        "from sklearn.pipeline import make_pipeline"
      ],
      "execution_count": 259,
      "outputs": []
    },
    {
      "cell_type": "markdown",
      "metadata": {
        "id": "FB5fAHZlN1Pp"
      },
      "source": [
        "## **1:** \n",
        "*Import the spam dataset and print the first six rows.*"
      ]
    },
    {
      "cell_type": "code",
      "metadata": {
        "id": "vHOGD1xzGdHL",
        "colab": {
          "base_uri": "https://localhost:8080/",
          "height": 262
        },
        "outputId": "57d6dacd-27ea-458b-863f-05fe32b849eb"
      },
      "source": [
        "#Reading in data\n",
        "from google.colab import drive\n",
        "drive.mount('/content/drive')\n",
        "\n",
        "df = pd.read_csv('/content/drive/MyDrive/Python/Midterm/spam_dataset.csv')\n",
        "df.head(6)"
      ],
      "execution_count": 260,
      "outputs": [
        {
          "output_type": "stream",
          "text": [
            "Drive already mounted at /content/drive; to attempt to forcibly remount, call drive.mount(\"/content/drive\", force_remount=True).\n"
          ],
          "name": "stdout"
        },
        {
          "output_type": "execute_result",
          "data": {
            "text/html": [
              "<div>\n",
              "<style scoped>\n",
              "    .dataframe tbody tr th:only-of-type {\n",
              "        vertical-align: middle;\n",
              "    }\n",
              "\n",
              "    .dataframe tbody tr th {\n",
              "        vertical-align: top;\n",
              "    }\n",
              "\n",
              "    .dataframe thead th {\n",
              "        text-align: right;\n",
              "    }\n",
              "</style>\n",
              "<table border=\"1\" class=\"dataframe\">\n",
              "  <thead>\n",
              "    <tr style=\"text-align: right;\">\n",
              "      <th></th>\n",
              "      <th>word_freq_make:</th>\n",
              "      <th>word_freq_address:</th>\n",
              "      <th>word_freq_all:</th>\n",
              "      <th>word_freq_3d:</th>\n",
              "      <th>word_freq_our:</th>\n",
              "      <th>word_freq_over:</th>\n",
              "      <th>word_freq_remove:</th>\n",
              "      <th>word_freq_internet:</th>\n",
              "      <th>word_freq_order:</th>\n",
              "      <th>word_freq_mail:</th>\n",
              "      <th>word_freq_receive:</th>\n",
              "      <th>word_freq_will:</th>\n",
              "      <th>word_freq_people:</th>\n",
              "      <th>word_freq_report:</th>\n",
              "      <th>word_freq_addresses:</th>\n",
              "      <th>word_freq_free:</th>\n",
              "      <th>word_freq_business:</th>\n",
              "      <th>word_freq_email:</th>\n",
              "      <th>word_freq_you:</th>\n",
              "      <th>word_freq_credit:</th>\n",
              "      <th>word_freq_your:</th>\n",
              "      <th>word_freq_font:</th>\n",
              "      <th>word_freq_000:</th>\n",
              "      <th>word_freq_money:</th>\n",
              "      <th>word_freq_hp:</th>\n",
              "      <th>word_freq_hpl:</th>\n",
              "      <th>word_freq_george:</th>\n",
              "      <th>word_freq_650:</th>\n",
              "      <th>word_freq_lab:</th>\n",
              "      <th>word_freq_labs:</th>\n",
              "      <th>word_freq_telnet:</th>\n",
              "      <th>word_freq_857:</th>\n",
              "      <th>word_freq_data:</th>\n",
              "      <th>word_freq_415:</th>\n",
              "      <th>word_freq_85:</th>\n",
              "      <th>word_freq_technology:</th>\n",
              "      <th>word_freq_1999:</th>\n",
              "      <th>word_freq_parts:</th>\n",
              "      <th>word_freq_pm:</th>\n",
              "      <th>word_freq_direct:</th>\n",
              "      <th>word_freq_cs:</th>\n",
              "      <th>word_freq_meeting:</th>\n",
              "      <th>word_freq_original:</th>\n",
              "      <th>word_freq_project:</th>\n",
              "      <th>word_freq_re:</th>\n",
              "      <th>word_freq_edu:</th>\n",
              "      <th>word_freq_table:</th>\n",
              "      <th>word_freq_conference:</th>\n",
              "      <th>char_freq_;:</th>\n",
              "      <th>char_freq_(:</th>\n",
              "      <th>char_freq_[:</th>\n",
              "      <th>char_freq_!:</th>\n",
              "      <th>char_freq_$:</th>\n",
              "      <th>char_freq_#:</th>\n",
              "      <th>capital_run_length_average:</th>\n",
              "      <th>capital_run_length_longest:</th>\n",
              "      <th>capital_run_length_total:</th>\n",
              "      <th>spam</th>\n",
              "    </tr>\n",
              "  </thead>\n",
              "  <tbody>\n",
              "    <tr>\n",
              "      <th>0</th>\n",
              "      <td>0.00</td>\n",
              "      <td>0.64</td>\n",
              "      <td>0.64</td>\n",
              "      <td>0.0</td>\n",
              "      <td>0.32</td>\n",
              "      <td>0.00</td>\n",
              "      <td>0.00</td>\n",
              "      <td>0.00</td>\n",
              "      <td>0.00</td>\n",
              "      <td>0.00</td>\n",
              "      <td>0.00</td>\n",
              "      <td>0.64</td>\n",
              "      <td>0.00</td>\n",
              "      <td>0.00</td>\n",
              "      <td>0.00</td>\n",
              "      <td>0.32</td>\n",
              "      <td>0.00</td>\n",
              "      <td>1.29</td>\n",
              "      <td>1.93</td>\n",
              "      <td>0.00</td>\n",
              "      <td>0.96</td>\n",
              "      <td>0.0</td>\n",
              "      <td>0.00</td>\n",
              "      <td>0.00</td>\n",
              "      <td>0.0</td>\n",
              "      <td>0.0</td>\n",
              "      <td>0.0</td>\n",
              "      <td>0.0</td>\n",
              "      <td>0.0</td>\n",
              "      <td>0.0</td>\n",
              "      <td>0.0</td>\n",
              "      <td>0.0</td>\n",
              "      <td>0.0</td>\n",
              "      <td>0.0</td>\n",
              "      <td>0.0</td>\n",
              "      <td>0.0</td>\n",
              "      <td>0.00</td>\n",
              "      <td>0.0</td>\n",
              "      <td>0.0</td>\n",
              "      <td>0.00</td>\n",
              "      <td>0.0</td>\n",
              "      <td>0.0</td>\n",
              "      <td>0.00</td>\n",
              "      <td>0.0</td>\n",
              "      <td>0.00</td>\n",
              "      <td>0.00</td>\n",
              "      <td>0.0</td>\n",
              "      <td>0.0</td>\n",
              "      <td>0.00</td>\n",
              "      <td>0.000</td>\n",
              "      <td>0.0</td>\n",
              "      <td>0.778</td>\n",
              "      <td>0.000</td>\n",
              "      <td>0.000</td>\n",
              "      <td>3.756</td>\n",
              "      <td>61</td>\n",
              "      <td>278</td>\n",
              "      <td>1</td>\n",
              "    </tr>\n",
              "    <tr>\n",
              "      <th>1</th>\n",
              "      <td>0.21</td>\n",
              "      <td>0.28</td>\n",
              "      <td>0.50</td>\n",
              "      <td>0.0</td>\n",
              "      <td>0.14</td>\n",
              "      <td>0.28</td>\n",
              "      <td>0.21</td>\n",
              "      <td>0.07</td>\n",
              "      <td>0.00</td>\n",
              "      <td>0.94</td>\n",
              "      <td>0.21</td>\n",
              "      <td>0.79</td>\n",
              "      <td>0.65</td>\n",
              "      <td>0.21</td>\n",
              "      <td>0.14</td>\n",
              "      <td>0.14</td>\n",
              "      <td>0.07</td>\n",
              "      <td>0.28</td>\n",
              "      <td>3.47</td>\n",
              "      <td>0.00</td>\n",
              "      <td>1.59</td>\n",
              "      <td>0.0</td>\n",
              "      <td>0.43</td>\n",
              "      <td>0.43</td>\n",
              "      <td>0.0</td>\n",
              "      <td>0.0</td>\n",
              "      <td>0.0</td>\n",
              "      <td>0.0</td>\n",
              "      <td>0.0</td>\n",
              "      <td>0.0</td>\n",
              "      <td>0.0</td>\n",
              "      <td>0.0</td>\n",
              "      <td>0.0</td>\n",
              "      <td>0.0</td>\n",
              "      <td>0.0</td>\n",
              "      <td>0.0</td>\n",
              "      <td>0.07</td>\n",
              "      <td>0.0</td>\n",
              "      <td>0.0</td>\n",
              "      <td>0.00</td>\n",
              "      <td>0.0</td>\n",
              "      <td>0.0</td>\n",
              "      <td>0.00</td>\n",
              "      <td>0.0</td>\n",
              "      <td>0.00</td>\n",
              "      <td>0.00</td>\n",
              "      <td>0.0</td>\n",
              "      <td>0.0</td>\n",
              "      <td>0.00</td>\n",
              "      <td>0.132</td>\n",
              "      <td>0.0</td>\n",
              "      <td>0.372</td>\n",
              "      <td>0.180</td>\n",
              "      <td>0.048</td>\n",
              "      <td>5.114</td>\n",
              "      <td>101</td>\n",
              "      <td>1028</td>\n",
              "      <td>1</td>\n",
              "    </tr>\n",
              "    <tr>\n",
              "      <th>2</th>\n",
              "      <td>0.06</td>\n",
              "      <td>0.00</td>\n",
              "      <td>0.71</td>\n",
              "      <td>0.0</td>\n",
              "      <td>1.23</td>\n",
              "      <td>0.19</td>\n",
              "      <td>0.19</td>\n",
              "      <td>0.12</td>\n",
              "      <td>0.64</td>\n",
              "      <td>0.25</td>\n",
              "      <td>0.38</td>\n",
              "      <td>0.45</td>\n",
              "      <td>0.12</td>\n",
              "      <td>0.00</td>\n",
              "      <td>1.75</td>\n",
              "      <td>0.06</td>\n",
              "      <td>0.06</td>\n",
              "      <td>1.03</td>\n",
              "      <td>1.36</td>\n",
              "      <td>0.32</td>\n",
              "      <td>0.51</td>\n",
              "      <td>0.0</td>\n",
              "      <td>1.16</td>\n",
              "      <td>0.06</td>\n",
              "      <td>0.0</td>\n",
              "      <td>0.0</td>\n",
              "      <td>0.0</td>\n",
              "      <td>0.0</td>\n",
              "      <td>0.0</td>\n",
              "      <td>0.0</td>\n",
              "      <td>0.0</td>\n",
              "      <td>0.0</td>\n",
              "      <td>0.0</td>\n",
              "      <td>0.0</td>\n",
              "      <td>0.0</td>\n",
              "      <td>0.0</td>\n",
              "      <td>0.00</td>\n",
              "      <td>0.0</td>\n",
              "      <td>0.0</td>\n",
              "      <td>0.06</td>\n",
              "      <td>0.0</td>\n",
              "      <td>0.0</td>\n",
              "      <td>0.12</td>\n",
              "      <td>0.0</td>\n",
              "      <td>0.06</td>\n",
              "      <td>0.06</td>\n",
              "      <td>0.0</td>\n",
              "      <td>0.0</td>\n",
              "      <td>0.01</td>\n",
              "      <td>0.143</td>\n",
              "      <td>0.0</td>\n",
              "      <td>0.276</td>\n",
              "      <td>0.184</td>\n",
              "      <td>0.010</td>\n",
              "      <td>9.821</td>\n",
              "      <td>485</td>\n",
              "      <td>2259</td>\n",
              "      <td>1</td>\n",
              "    </tr>\n",
              "    <tr>\n",
              "      <th>3</th>\n",
              "      <td>0.00</td>\n",
              "      <td>0.00</td>\n",
              "      <td>0.00</td>\n",
              "      <td>0.0</td>\n",
              "      <td>0.63</td>\n",
              "      <td>0.00</td>\n",
              "      <td>0.31</td>\n",
              "      <td>0.63</td>\n",
              "      <td>0.31</td>\n",
              "      <td>0.63</td>\n",
              "      <td>0.31</td>\n",
              "      <td>0.31</td>\n",
              "      <td>0.31</td>\n",
              "      <td>0.00</td>\n",
              "      <td>0.00</td>\n",
              "      <td>0.31</td>\n",
              "      <td>0.00</td>\n",
              "      <td>0.00</td>\n",
              "      <td>3.18</td>\n",
              "      <td>0.00</td>\n",
              "      <td>0.31</td>\n",
              "      <td>0.0</td>\n",
              "      <td>0.00</td>\n",
              "      <td>0.00</td>\n",
              "      <td>0.0</td>\n",
              "      <td>0.0</td>\n",
              "      <td>0.0</td>\n",
              "      <td>0.0</td>\n",
              "      <td>0.0</td>\n",
              "      <td>0.0</td>\n",
              "      <td>0.0</td>\n",
              "      <td>0.0</td>\n",
              "      <td>0.0</td>\n",
              "      <td>0.0</td>\n",
              "      <td>0.0</td>\n",
              "      <td>0.0</td>\n",
              "      <td>0.00</td>\n",
              "      <td>0.0</td>\n",
              "      <td>0.0</td>\n",
              "      <td>0.00</td>\n",
              "      <td>0.0</td>\n",
              "      <td>0.0</td>\n",
              "      <td>0.00</td>\n",
              "      <td>0.0</td>\n",
              "      <td>0.00</td>\n",
              "      <td>0.00</td>\n",
              "      <td>0.0</td>\n",
              "      <td>0.0</td>\n",
              "      <td>0.00</td>\n",
              "      <td>0.137</td>\n",
              "      <td>0.0</td>\n",
              "      <td>0.137</td>\n",
              "      <td>0.000</td>\n",
              "      <td>0.000</td>\n",
              "      <td>3.537</td>\n",
              "      <td>40</td>\n",
              "      <td>191</td>\n",
              "      <td>1</td>\n",
              "    </tr>\n",
              "    <tr>\n",
              "      <th>4</th>\n",
              "      <td>0.00</td>\n",
              "      <td>0.00</td>\n",
              "      <td>0.00</td>\n",
              "      <td>0.0</td>\n",
              "      <td>0.63</td>\n",
              "      <td>0.00</td>\n",
              "      <td>0.31</td>\n",
              "      <td>0.63</td>\n",
              "      <td>0.31</td>\n",
              "      <td>0.63</td>\n",
              "      <td>0.31</td>\n",
              "      <td>0.31</td>\n",
              "      <td>0.31</td>\n",
              "      <td>0.00</td>\n",
              "      <td>0.00</td>\n",
              "      <td>0.31</td>\n",
              "      <td>0.00</td>\n",
              "      <td>0.00</td>\n",
              "      <td>3.18</td>\n",
              "      <td>0.00</td>\n",
              "      <td>0.31</td>\n",
              "      <td>0.0</td>\n",
              "      <td>0.00</td>\n",
              "      <td>0.00</td>\n",
              "      <td>0.0</td>\n",
              "      <td>0.0</td>\n",
              "      <td>0.0</td>\n",
              "      <td>0.0</td>\n",
              "      <td>0.0</td>\n",
              "      <td>0.0</td>\n",
              "      <td>0.0</td>\n",
              "      <td>0.0</td>\n",
              "      <td>0.0</td>\n",
              "      <td>0.0</td>\n",
              "      <td>0.0</td>\n",
              "      <td>0.0</td>\n",
              "      <td>0.00</td>\n",
              "      <td>0.0</td>\n",
              "      <td>0.0</td>\n",
              "      <td>0.00</td>\n",
              "      <td>0.0</td>\n",
              "      <td>0.0</td>\n",
              "      <td>0.00</td>\n",
              "      <td>0.0</td>\n",
              "      <td>0.00</td>\n",
              "      <td>0.00</td>\n",
              "      <td>0.0</td>\n",
              "      <td>0.0</td>\n",
              "      <td>0.00</td>\n",
              "      <td>0.135</td>\n",
              "      <td>0.0</td>\n",
              "      <td>0.135</td>\n",
              "      <td>0.000</td>\n",
              "      <td>0.000</td>\n",
              "      <td>3.537</td>\n",
              "      <td>40</td>\n",
              "      <td>191</td>\n",
              "      <td>1</td>\n",
              "    </tr>\n",
              "    <tr>\n",
              "      <th>5</th>\n",
              "      <td>0.00</td>\n",
              "      <td>0.00</td>\n",
              "      <td>0.00</td>\n",
              "      <td>0.0</td>\n",
              "      <td>1.85</td>\n",
              "      <td>0.00</td>\n",
              "      <td>0.00</td>\n",
              "      <td>1.85</td>\n",
              "      <td>0.00</td>\n",
              "      <td>0.00</td>\n",
              "      <td>0.00</td>\n",
              "      <td>0.00</td>\n",
              "      <td>0.00</td>\n",
              "      <td>0.00</td>\n",
              "      <td>0.00</td>\n",
              "      <td>0.00</td>\n",
              "      <td>0.00</td>\n",
              "      <td>0.00</td>\n",
              "      <td>0.00</td>\n",
              "      <td>0.00</td>\n",
              "      <td>0.00</td>\n",
              "      <td>0.0</td>\n",
              "      <td>0.00</td>\n",
              "      <td>0.00</td>\n",
              "      <td>0.0</td>\n",
              "      <td>0.0</td>\n",
              "      <td>0.0</td>\n",
              "      <td>0.0</td>\n",
              "      <td>0.0</td>\n",
              "      <td>0.0</td>\n",
              "      <td>0.0</td>\n",
              "      <td>0.0</td>\n",
              "      <td>0.0</td>\n",
              "      <td>0.0</td>\n",
              "      <td>0.0</td>\n",
              "      <td>0.0</td>\n",
              "      <td>0.00</td>\n",
              "      <td>0.0</td>\n",
              "      <td>0.0</td>\n",
              "      <td>0.00</td>\n",
              "      <td>0.0</td>\n",
              "      <td>0.0</td>\n",
              "      <td>0.00</td>\n",
              "      <td>0.0</td>\n",
              "      <td>0.00</td>\n",
              "      <td>0.00</td>\n",
              "      <td>0.0</td>\n",
              "      <td>0.0</td>\n",
              "      <td>0.00</td>\n",
              "      <td>0.223</td>\n",
              "      <td>0.0</td>\n",
              "      <td>0.000</td>\n",
              "      <td>0.000</td>\n",
              "      <td>0.000</td>\n",
              "      <td>3.000</td>\n",
              "      <td>15</td>\n",
              "      <td>54</td>\n",
              "      <td>1</td>\n",
              "    </tr>\n",
              "  </tbody>\n",
              "</table>\n",
              "</div>"
            ],
            "text/plain": [
              "   word_freq_make:  word_freq_address:  ...  capital_run_length_total:  spam\n",
              "0             0.00                0.64  ...                        278     1\n",
              "1             0.21                0.28  ...                       1028     1\n",
              "2             0.06                0.00  ...                       2259     1\n",
              "3             0.00                0.00  ...                        191     1\n",
              "4             0.00                0.00  ...                        191     1\n",
              "5             0.00                0.00  ...                         54     1\n",
              "\n",
              "[6 rows x 58 columns]"
            ]
          },
          "metadata": {
            "tags": []
          },
          "execution_count": 260
        }
      ]
    },
    {
      "cell_type": "markdown",
      "metadata": {
        "id": "G1IliMNvHJxA"
      },
      "source": [
        "## **2:**\n",
        "*Read through the documentation of the original dataset here:*\n",
        "\n",
        "http://archive.ics.uci.edu/ml/machine-learning-databases/spambase/spambase.names\n",
        "\n",
        "*The dependent variable is \"spam\" where one indicates that an email is spam and zero otherwise.  Which three variables in the dataset do you think will be important predictors in a model of spam?  Why?*"
      ]
    },
    {
      "cell_type": "markdown",
      "metadata": {
        "id": "buyoYdEkIa7s"
      },
      "source": [
        "\n",
        "\n",
        "---\n",
        "\n",
        "\n",
        "**The 3 variables I chose were 'capital_run_length_total', 'char_freq_$', and 'word_freq_free'. These variables were chosen with the idea being to develop a model that is able to identify spam emails in general, and not just spam for personalized emails in question (given that our source of non-spam emails were emails of HP employees). For this reason, variables that are generally used to identify spam were chosen, while variables counting the frequency of HP specific terms (george, 650 for area code, meeting, conference, hp, hpl, etc.) were avoided as they would not generalize well for developing a spam filter for the average email user.**\n",
        "\n",
        "**Spam emails often contain heavily capitalized words to grab attention from among the multitude of other emails a user gets, spam or otherwise. So having a measure of the average length of consecutive capital letter sequences (capital_run_length_total) is a good differentiator between spam and non-spam email. Moreover, overuse of the dollar sign character '$' and repeat emphasize on free things is a hallmark of money scheme spam emails or dubious advertisements.**\n",
        "\n",
        "\n",
        "---\n",
        "\n"
      ]
    },
    {
      "cell_type": "markdown",
      "metadata": {
        "id": "F1FGrPXjkC4z"
      },
      "source": [
        "## **3:**\n",
        "*Visualize the univariate distribution of each of the variables in the previous question.*"
      ]
    },
    {
      "cell_type": "code",
      "metadata": {
        "colab": {
          "base_uri": "https://localhost:8080/",
          "height": 298
        },
        "id": "s1418-l-HXw5",
        "outputId": "d070b181-cc36-4a28-c17b-99b0e3260c71"
      },
      "source": [
        "import matplotlib.pyplot as plt\n",
        "\n",
        "# Spam Histogram\n",
        "plt.hist(data = df, x = 'spam')\n",
        "plt.ylabel('Count')\n",
        "plt.title('Spam')"
      ],
      "execution_count": 261,
      "outputs": [
        {
          "output_type": "execute_result",
          "data": {
            "text/plain": [
              "Text(0.5, 1.0, 'Spam')"
            ]
          },
          "metadata": {
            "tags": []
          },
          "execution_count": 261
        },
        {
          "output_type": "display_data",
          "data": {
            "image/png": "[encoded data removed]",
            "text/plain": [
              "<Figure size 432x288 with 1 Axes>"
            ]
          },
          "metadata": {
            "tags": [],
            "needs_background": "light"
          }
        }
      ]
    },
    {
      "cell_type": "code",
      "metadata": {
        "colab": {
          "base_uri": "https://localhost:8080/",
          "height": 400
        },
        "id": "B_84PVlSnX8U",
        "outputId": "c9982469-3b4c-4889-8a6d-482a3ef963a0"
      },
      "source": [
        "# Average length of sequence of consecutive capital letters in email histogram\n",
        "sns.catplot(x = 'spam', y = 'capital_run_length_average:', kind = \"box\", data = df)"
      ],
      "execution_count": 262,
      "outputs": [
        {
          "output_type": "execute_result",
          "data": {
            "text/plain": [
              "<seaborn.axisgrid.FacetGrid at 0x7f7c84332510>"
            ]
          },
          "metadata": {
            "tags": []
          },
          "execution_count": 262
        },
        {
          "output_type": "display_data",
          "data": {
            "image/png": "[encoded data removed]",
            "text/plain": [
              "<Figure size 360x360 with 1 Axes>"
            ]
          },
          "metadata": {
            "tags": [],
            "needs_background": "light"
          }
        }
      ]
    },
    {
      "cell_type": "code",
      "metadata": {
        "colab": {
          "base_uri": "https://localhost:8080/",
          "height": 400
        },
        "id": "Ve90vPnjnbfK",
        "outputId": "2b4fcf2e-ff5c-432e-a3ae-496d547a00e4"
      },
      "source": [
        "# Proportion of characters in email being \"$\" histogram\n",
        "sns.catplot(x = 'spam', y = 'char_freq_$:', kind = \"box\", data = df)"
      ],
      "execution_count": 263,
      "outputs": [
        {
          "output_type": "execute_result",
          "data": {
            "text/plain": [
              "<seaborn.axisgrid.FacetGrid at 0x7f7c83d50290>"
            ]
          },
          "metadata": {
            "tags": []
          },
          "execution_count": 263
        },
        {
          "output_type": "display_data",
          "data": {
            "image/png": "[encoded data removed]",
            "text/plain": [
              "<Figure size 360x360 with 1 Axes>"
            ]
          },
          "metadata": {
            "tags": [],
            "needs_background": "light"
          }
        }
      ]
    },
    {
      "cell_type": "code",
      "metadata": {
        "colab": {
          "base_uri": "https://localhost:8080/",
          "height": 400
        },
        "id": "FZvSxuwinc_U",
        "outputId": "fd16ec02-90ec-4d53-83a8-48f4d73d4d8e"
      },
      "source": [
        "# Proportion of words in email being \"free\" histogram\n",
        "sns.catplot(x = 'spam', y = 'word_freq_free:', kind = \"box\", data = df)"
      ],
      "execution_count": 264,
      "outputs": [
        {
          "output_type": "execute_result",
          "data": {
            "text/plain": [
              "<seaborn.axisgrid.FacetGrid at 0x7f7c83e2c5d0>"
            ]
          },
          "metadata": {
            "tags": []
          },
          "execution_count": 264
        },
        {
          "output_type": "display_data",
          "data": {
            "image/png": "[encoded data removed]",
            "text/plain": [
              "<Figure size 360x360 with 1 Axes>"
            ]
          },
          "metadata": {
            "tags": [],
            "needs_background": "light"
          }
        }
      ]
    },
    {
      "cell_type": "markdown",
      "metadata": {
        "id": "xUQDezyspAWU"
      },
      "source": [
        "## **4:**\n",
        "*Name each of the supervised learning models that we have learned thus far that are used to predict dependent variables like \"spam\".*"
      ]
    },
    {
      "cell_type": "markdown",
      "metadata": {
        "id": "9OGWJJstDEm0"
      },
      "source": [
        "---\n",
        "\n",
        "**Penalized Logistic Regression (L1 & L2), Unpenalized Logistic Regression, KNN Classification, Support Vector Machines/Classifier (SVM/C) Models, Decision Tree Classifier Models, and Ensemble Decision Tree Classifier Models such as Random Forest Classifier Models or Bootstrap aggregation 'bagging' Models.**\n",
        "\n",
        "---\n",
        "\n",
        "\n"
      ]
    },
    {
      "cell_type": "markdown",
      "metadata": {
        "id": "ihTFXbCDEkvc"
      },
      "source": [
        "## **5:**"
      ]
    },
    {
      "cell_type": "markdown",
      "metadata": {
        "id": "LCwYervwEoeQ"
      },
      "source": [
        "*Describe the importance of training and test data.  Why do we separate data into these subsets?*"
      ]
    },
    {
      "cell_type": "markdown",
      "metadata": {
        "id": "skcpTjVCEslQ"
      },
      "source": [
        "---\n",
        "\n",
        "**We separate our data into test and training data as to be able to test our model in question using a subset of data ('test' subset) that is different than the data the model was initially trained on (the 'train' subset). This is done to get an accurate assessment of whether our model is effective at predicting unseen data or not.**\n",
        "\n",
        "---"
      ]
    },
    {
      "cell_type": "markdown",
      "metadata": {
        "id": "ouFrwZHPEtmm"
      },
      "source": [
        "##**6:**"
      ]
    },
    {
      "cell_type": "markdown",
      "metadata": {
        "id": "6bYBzmU8E25X"
      },
      "source": [
        "*What is k-fold cross validation and what do we use it for?*"
      ]
    },
    {
      "cell_type": "markdown",
      "metadata": {
        "id": "h0gIsst9E4K5"
      },
      "source": [
        "---\n",
        "\n",
        "**K-fold cross validation refers to a kind of multi-sampling procedure where a sample dataset is randomly divided into k number of groups where one group is assigned as the 'test' subset and the rest of the groups (k-1) are assigned as 'training' subsets. Our model is trained using these k-1 training data and then evaluated using the 'test' data.**\n",
        "\n",
        "**This procedure of picking which pre-assigned k-groups are 'test' or 'train' subsets, as well as the training and testing of our model using them, is run k number of times (splits) so that each k-fold group gets to act as the 'test' subset for our model once, and act to 'train' our model k-1 number of times. It is important to note that the initial random assignment of observations into k-groups is done only once at the beginning to maintain each observation in the data acting as 'test' once and 'train' k-1 times. (Note: splits here refers to the number of iterations within one cross-validation run, and not the number of repeats used in repeat cross-validation).**\n",
        "\n",
        "**K-fold cross validation is preferred to a one-off test-train split evaluation of our model since it allows us to get multiple unique evaluations of how \"objective\" (closer to the truth) our model predictions are, without needing extra sample datasets than the one you have.**\n",
        "\n",
        "---"
      ]
    },
    {
      "cell_type": "markdown",
      "metadata": {
        "id": "64wVTG-iFCsw"
      },
      "source": [
        "##**7:**"
      ]
    },
    {
      "cell_type": "markdown",
      "metadata": {
        "id": "EY826UJiFGxw"
      },
      "source": [
        "*How is k-fold cross validation different from stratified k-fold cross validation?*"
      ]
    },
    {
      "cell_type": "markdown",
      "metadata": {
        "id": "cAuU5qgeFIDB"
      },
      "source": [
        "---\n",
        "\n",
        "**When k-fold cross-validation shuffles and randomly assigns observations to k-fold groups, it gives each observation a uniform probablity of being put into one of the k-groups. But given an outcome with multiple categories, this uniform probability assignment might lead to k-fold groups that are biased, with outcome category distributions that are different than the distribution of outcome categories in our original, full dataset.**\n",
        "\n",
        "**Stratified k-fold cross-validation fixes this issue by insuring our k-fold groups match our original dataset in terms of outcome proportions. It assigns observations to k-groups not using a unform probability distribution, but the actual distribution of outcome categories in our dataset.**\n",
        "\n",
        "**This is especially important if our outcomes are relatively skewed towards being in one or more category. Meaning if we uniformly assign these observations into k-groups, some of those groups might end up having little to no representation of one of the outcome categories and our model would then be inaccurately trained and evaluated.** \n",
        "\n",
        "---"
      ]
    },
    {
      "cell_type": "markdown",
      "metadata": {
        "id": "oDfpsj2vFSyZ"
      },
      "source": [
        "##**8:**"
      ]
    },
    {
      "cell_type": "markdown",
      "metadata": {
        "id": "Ebq6YPs3FUw4"
      },
      "source": [
        "*Choose one model from question four.  Split the data into training and test subsets.  Build a model with the three variables in the dataset that you think will be good predictors of \"spam\".  Describe why you chose any particular parameters for your model (e.g.- if you used KNN how did you decide to choose a specific value for k).  Run the model and evaluate prediction error in two ways: A) On test data directly and B) using k-fold cross-validation.*"
      ]
    },
    {
      "cell_type": "code",
      "metadata": {
        "colab": {
          "base_uri": "https://localhost:8080/",
          "height": 195
        },
        "id": "p9I02cs-Elk9",
        "outputId": "dd714baa-0c9b-4ad3-ac86-2539bc01d32b"
      },
      "source": [
        "df_3v = df.loc[:, ['capital_run_length_average:', 'char_freq_$:', 'word_freq_free:', 'spam']]\n",
        "df_3v.head()"
      ],
      "execution_count": 265,
      "outputs": [
        {
          "output_type": "execute_result",
          "data": {
            "text/html": [
              "<div>\n",
              "<style scoped>\n",
              "    .dataframe tbody tr th:only-of-type {\n",
              "        vertical-align: middle;\n",
              "    }\n",
              "\n",
              "    .dataframe tbody tr th {\n",
              "        vertical-align: top;\n",
              "    }\n",
              "\n",
              "    .dataframe thead th {\n",
              "        text-align: right;\n",
              "    }\n",
              "</style>\n",
              "<table border=\"1\" class=\"dataframe\">\n",
              "  <thead>\n",
              "    <tr style=\"text-align: right;\">\n",
              "      <th></th>\n",
              "      <th>capital_run_length_average:</th>\n",
              "      <th>char_freq_$:</th>\n",
              "      <th>word_freq_free:</th>\n",
              "      <th>spam</th>\n",
              "    </tr>\n",
              "  </thead>\n",
              "  <tbody>\n",
              "    <tr>\n",
              "      <th>0</th>\n",
              "      <td>3.756</td>\n",
              "      <td>0.000</td>\n",
              "      <td>0.32</td>\n",
              "      <td>1</td>\n",
              "    </tr>\n",
              "    <tr>\n",
              "      <th>1</th>\n",
              "      <td>5.114</td>\n",
              "      <td>0.180</td>\n",
              "      <td>0.14</td>\n",
              "      <td>1</td>\n",
              "    </tr>\n",
              "    <tr>\n",
              "      <th>2</th>\n",
              "      <td>9.821</td>\n",
              "      <td>0.184</td>\n",
              "      <td>0.06</td>\n",
              "      <td>1</td>\n",
              "    </tr>\n",
              "    <tr>\n",
              "      <th>3</th>\n",
              "      <td>3.537</td>\n",
              "      <td>0.000</td>\n",
              "      <td>0.31</td>\n",
              "      <td>1</td>\n",
              "    </tr>\n",
              "    <tr>\n",
              "      <th>4</th>\n",
              "      <td>3.537</td>\n",
              "      <td>0.000</td>\n",
              "      <td>0.31</td>\n",
              "      <td>1</td>\n",
              "    </tr>\n",
              "  </tbody>\n",
              "</table>\n",
              "</div>"
            ],
            "text/plain": [
              "   capital_run_length_average:  char_freq_$:  word_freq_free:  spam\n",
              "0                        3.756         0.000             0.32     1\n",
              "1                        5.114         0.180             0.14     1\n",
              "2                        9.821         0.184             0.06     1\n",
              "3                        3.537         0.000             0.31     1\n",
              "4                        3.537         0.000             0.31     1"
            ]
          },
          "metadata": {
            "tags": []
          },
          "execution_count": 265
        }
      ]
    },
    {
      "cell_type": "code",
      "metadata": {
        "id": "sru9Oif7I6_w",
        "colab": {
          "base_uri": "https://localhost:8080/",
          "height": 296
        },
        "outputId": "9d59ae70-b1fa-4457-88c7-79d6d043e21d"
      },
      "source": [
        "y1 = df_3v['spam']\n",
        "X1 = df_3v.loc[:, df_3v.columns != 'spam']\n",
        "\n",
        "print(y1[0:5])\n",
        "X1.head()"
      ],
      "execution_count": 266,
      "outputs": [
        {
          "output_type": "stream",
          "text": [
            "0    1\n",
            "1    1\n",
            "2    1\n",
            "3    1\n",
            "4    1\n",
            "Name: spam, dtype: int64\n"
          ],
          "name": "stdout"
        },
        {
          "output_type": "execute_result",
          "data": {
            "text/html": [
              "<div>\n",
              "<style scoped>\n",
              "    .dataframe tbody tr th:only-of-type {\n",
              "        vertical-align: middle;\n",
              "    }\n",
              "\n",
              "    .dataframe tbody tr th {\n",
              "        vertical-align: top;\n",
              "    }\n",
              "\n",
              "    .dataframe thead th {\n",
              "        text-align: right;\n",
              "    }\n",
              "</style>\n",
              "<table border=\"1\" class=\"dataframe\">\n",
              "  <thead>\n",
              "    <tr style=\"text-align: right;\">\n",
              "      <th></th>\n",
              "      <th>capital_run_length_average:</th>\n",
              "      <th>char_freq_$:</th>\n",
              "      <th>word_freq_free:</th>\n",
              "    </tr>\n",
              "  </thead>\n",
              "  <tbody>\n",
              "    <tr>\n",
              "      <th>0</th>\n",
              "      <td>3.756</td>\n",
              "      <td>0.000</td>\n",
              "      <td>0.32</td>\n",
              "    </tr>\n",
              "    <tr>\n",
              "      <th>1</th>\n",
              "      <td>5.114</td>\n",
              "      <td>0.180</td>\n",
              "      <td>0.14</td>\n",
              "    </tr>\n",
              "    <tr>\n",
              "      <th>2</th>\n",
              "      <td>9.821</td>\n",
              "      <td>0.184</td>\n",
              "      <td>0.06</td>\n",
              "    </tr>\n",
              "    <tr>\n",
              "      <th>3</th>\n",
              "      <td>3.537</td>\n",
              "      <td>0.000</td>\n",
              "      <td>0.31</td>\n",
              "    </tr>\n",
              "    <tr>\n",
              "      <th>4</th>\n",
              "      <td>3.537</td>\n",
              "      <td>0.000</td>\n",
              "      <td>0.31</td>\n",
              "    </tr>\n",
              "  </tbody>\n",
              "</table>\n",
              "</div>"
            ],
            "text/plain": [
              "   capital_run_length_average:  char_freq_$:  word_freq_free:\n",
              "0                        3.756         0.000             0.32\n",
              "1                        5.114         0.180             0.14\n",
              "2                        9.821         0.184             0.06\n",
              "3                        3.537         0.000             0.31\n",
              "4                        3.537         0.000             0.31"
            ]
          },
          "metadata": {
            "tags": []
          },
          "execution_count": 266
        }
      ]
    },
    {
      "cell_type": "markdown",
      "metadata": {
        "id": "ZrqR4SkGJtyg"
      },
      "source": [
        "**Train-test splitting our data.**"
      ]
    },
    {
      "cell_type": "code",
      "metadata": {
        "id": "RDSzkv01JmWY",
        "colab": {
          "base_uri": "https://localhost:8080/",
          "height": 296
        },
        "outputId": "e8b476ec-738e-4d24-99c8-86a673fcfb43"
      },
      "source": [
        "from sklearn.model_selection import train_test_split\n",
        "\n",
        "X1_train, X1_test, y1_train, y1_test = train_test_split(X1, y1, random_state=0)\n",
        "\n",
        "print(y1_train[0:5])\n",
        "X1_train.head()"
      ],
      "execution_count": 267,
      "outputs": [
        {
          "output_type": "stream",
          "text": [
            "118     1\n",
            "261     1\n",
            "598     1\n",
            "1770    1\n",
            "905     1\n",
            "Name: spam, dtype: int64\n"
          ],
          "name": "stdout"
        },
        {
          "output_type": "execute_result",
          "data": {
            "text/html": [
              "<div>\n",
              "<style scoped>\n",
              "    .dataframe tbody tr th:only-of-type {\n",
              "        vertical-align: middle;\n",
              "    }\n",
              "\n",
              "    .dataframe tbody tr th {\n",
              "        vertical-align: top;\n",
              "    }\n",
              "\n",
              "    .dataframe thead th {\n",
              "        text-align: right;\n",
              "    }\n",
              "</style>\n",
              "<table border=\"1\" class=\"dataframe\">\n",
              "  <thead>\n",
              "    <tr style=\"text-align: right;\">\n",
              "      <th></th>\n",
              "      <th>capital_run_length_average:</th>\n",
              "      <th>char_freq_$:</th>\n",
              "      <th>word_freq_free:</th>\n",
              "    </tr>\n",
              "  </thead>\n",
              "  <tbody>\n",
              "    <tr>\n",
              "      <th>118</th>\n",
              "      <td>102.666</td>\n",
              "      <td>0.000</td>\n",
              "      <td>0.00</td>\n",
              "    </tr>\n",
              "    <tr>\n",
              "      <th>261</th>\n",
              "      <td>5.423</td>\n",
              "      <td>0.707</td>\n",
              "      <td>1.11</td>\n",
              "    </tr>\n",
              "    <tr>\n",
              "      <th>598</th>\n",
              "      <td>2.551</td>\n",
              "      <td>0.000</td>\n",
              "      <td>0.00</td>\n",
              "    </tr>\n",
              "    <tr>\n",
              "      <th>1770</th>\n",
              "      <td>5.210</td>\n",
              "      <td>0.000</td>\n",
              "      <td>3.26</td>\n",
              "    </tr>\n",
              "    <tr>\n",
              "      <th>905</th>\n",
              "      <td>2.441</td>\n",
              "      <td>0.433</td>\n",
              "      <td>0.00</td>\n",
              "    </tr>\n",
              "  </tbody>\n",
              "</table>\n",
              "</div>"
            ],
            "text/plain": [
              "      capital_run_length_average:  char_freq_$:  word_freq_free:\n",
              "118                       102.666         0.000             0.00\n",
              "261                         5.423         0.707             1.11\n",
              "598                         2.551         0.000             0.00\n",
              "1770                        5.210         0.000             3.26\n",
              "905                         2.441         0.433             0.00"
            ]
          },
          "metadata": {
            "tags": []
          },
          "execution_count": 267
        }
      ]
    },
    {
      "cell_type": "markdown",
      "metadata": {
        "id": "vrEzhMzYikH5"
      },
      "source": [
        "####**KNN Classification**"
      ]
    },
    {
      "cell_type": "code",
      "metadata": {
        "id": "YLmo9FiJFWvL"
      },
      "source": [
        "from sklearn.preprocessing import StandardScaler\n",
        "from sklearn.model_selection import GridSearchCV"
      ],
      "execution_count": 268,
      "outputs": []
    },
    {
      "cell_type": "code",
      "metadata": {
        "colab": {
          "base_uri": "https://localhost:8080/"
        },
        "id": "BCnZo0qKZV7M",
        "outputId": "709d333a-e15d-47f9-c044-f06e618d798f"
      },
      "source": [
        "from sklearn.neighbors import KNeighborsClassifier\n",
        "\n",
        "# To tune the parameter defining number of k neighbors\n",
        "knn1_pipe = make_pipeline(StandardScaler(), KNeighborsClassifier())\n",
        "p_grid_knn1 = {'kneighborsclassifier__n_neighbors': [1,3,5,7,9,11,13,15]}\n",
        "\n",
        "grid_knn1 = GridSearchCV(knn1_pipe, p_grid_knn1, cv=10)\n",
        "grid_knn1.fit(X1_train, y1_train)\n",
        "\n",
        "print(\"KNN Classifier (Scaled)\")\n",
        "print(\"best mean cross-validation score: {:.3f}\".format(grid_knn1.best_score_))\n",
        "print(\"best parameters: {}\".format(grid_knn1.best_params_))\n",
        "print(\"test-set score: {:.3f}\".format(grid_knn1.score(X1_test, y1_test)))"
      ],
      "execution_count": 269,
      "outputs": [
        {
          "output_type": "stream",
          "text": [
            "KNN Classifier (Scaled)\n",
            "best mean cross-validation score: 0.850\n",
            "best parameters: {'kneighborsclassifier__n_neighbors': 7}\n",
            "test-set score: 0.844\n"
          ],
          "name": "stdout"
        }
      ]
    },
    {
      "cell_type": "markdown",
      "metadata": {
        "id": "IDLT9ZTOFh45"
      },
      "source": [
        "##**9:**"
      ]
    },
    {
      "cell_type": "markdown",
      "metadata": {
        "id": "zoPPJh-rFh46"
      },
      "source": [
        "*Choose a second model from question four.  Using the same three variables in the dataset that you think will be good predictors of \"spam\".  Describe why you chose any particular parameters for your model (e.g.- if you used KNN how did you decide to choose a specific value for k).  Run the model and evaluate prediction error in two ways: A) On test data directly and B) using k-fold cross-validation.  Did this model predict test data better than your previous model?*"
      ]
    },
    {
      "cell_type": "markdown",
      "metadata": {
        "id": "mtuDypyOiupG"
      },
      "source": [
        "####**Penalized (L2) Logistic Regression**"
      ]
    },
    {
      "cell_type": "code",
      "metadata": {
        "id": "psImMYMCFjm1",
        "colab": {
          "base_uri": "https://localhost:8080/"
        },
        "outputId": "70d7253f-7e67-4476-ff02-e63448262bbb"
      },
      "source": [
        "from sklearn.linear_model import LogisticRegression\n",
        "\n",
        "plog_pipe = make_pipeline(StandardScaler(), LogisticRegression(penalty='l2'))\n",
        "\n",
        "# Tuning for the C parameter in the Ridge L2 penalty logistic regression\n",
        "p_grid_plog = {'logisticregression__C': [0.1, 1, 10, 100, 1000, 10000]}\n",
        "\n",
        "grid_plog = GridSearchCV(plog_pipe, p_grid_plog, cv=10)\n",
        "grid_plog.fit(X1_train, y1_train)\n",
        "\n",
        "print(\"L2 Penalized Logistic Regression (Scaled)\")\n",
        "print(\"best mean cross-validation score: {:.3f}\".format(grid_plog.best_score_))\n",
        "print(\"best parameters: {}\".format(grid_plog.best_params_))\n",
        "print(\"test-set score: {:.3f}\".format(grid_plog.score(X1_test, y1_test)))"
      ],
      "execution_count": 270,
      "outputs": [
        {
          "output_type": "stream",
          "text": [
            "L2 Penalized Logistic Regression (Scaled)\n",
            "best mean cross-validation score: 0.825\n",
            "best parameters: {'logisticregression__C': 100}\n",
            "test-set score: 0.822\n"
          ],
          "name": "stdout"
        }
      ]
    },
    {
      "cell_type": "markdown",
      "metadata": {
        "id": "eN-QF5w4FjGz"
      },
      "source": [
        "##**10:**"
      ]
    },
    {
      "cell_type": "markdown",
      "metadata": {
        "id": "ev8rKREfFjG0"
      },
      "source": [
        "*Choose a third model from question four.  Using the same three variables in the dataset that you think will be good predictors of \"spam\".  Describe why you chose any particular parameters for your model (e.g.- if you used KNN how did you decide to choose a specific value for k). Run the model and evaluate prediction error in two ways: A) On test data directly and B) using k-fold cross-validation.  Did this model predict test data better than your previous models?*"
      ]
    },
    {
      "cell_type": "markdown",
      "metadata": {
        "id": "r3mQPNL5jmai"
      },
      "source": [
        "####**Unpenalized Logistic Regression**"
      ]
    },
    {
      "cell_type": "code",
      "metadata": {
        "colab": {
          "base_uri": "https://localhost:8080/"
        },
        "id": "GTBJ2bftjmar",
        "outputId": "202e11e7-8473-445f-ac19-16f92a492cc4"
      },
      "source": [
        "from sklearn.linear_model import LogisticRegression\n",
        "from sklearn.model_selection import cross_val_score\n",
        "\n",
        "scaler = StandardScaler().fit(X1_train)\n",
        "X1_train_scaled = scaler.transform(X1_train)\n",
        "X1_test_scaled = scaler.transform(X1_test)\n",
        "\n",
        "ulog = LogisticRegression(penalty='none')\n",
        "ulog.fit(X1_train_scaled, y1_train)\n",
        "\n",
        "print(\"Unpenalized Logistic Regression (Scaled)\")\n",
        "print(\"best mean cross-validation score: {:.3f}\".format(cross_val_score(ulog, X1_train_scaled, y1_train, cv=10, scoring='accuracy').mean()))\n",
        "print(\"test-set score: {:.3f}\".format(ulog.score(X1_test_scaled, y1_test)))\n",
        "\n",
        "# No parameters to tune in unpenalized logistic regression"
      ],
      "execution_count": 271,
      "outputs": [
        {
          "output_type": "stream",
          "text": [
            "Unpenalized Logistic Regression (Scaled)\n",
            "best mean cross-validation score: 0.825\n",
            "test-set score: 0.822\n"
          ],
          "name": "stdout"
        }
      ]
    },
    {
      "cell_type": "markdown",
      "metadata": {
        "id": "YO4dn_kFF5iY"
      },
      "source": [
        "##**11:**"
      ]
    },
    {
      "cell_type": "markdown",
      "metadata": {
        "id": "hkGca58AF5i3"
      },
      "source": [
        "*Choose a fourth model from question four.  Using the same three variables in the dataset that you think will be good predictors of \"spam\".  Describe why you chose any particular parameters for your model (e.g.- if you used KNN how did you decide to choose a specific value for k). Run the model and evaluate prediction error in two ways: A) On test data directly and B) using k-fold cross-validation.  Did this model predict test data better than your previous models?*"
      ]
    },
    {
      "cell_type": "markdown",
      "metadata": {
        "id": "i858hwaOiqAj"
      },
      "source": [
        "####**Random Forest Classifier**"
      ]
    },
    {
      "cell_type": "code",
      "metadata": {
        "id": "U3JMyvEHFivf",
        "colab": {
          "base_uri": "https://localhost:8080/"
        },
        "outputId": "3863b02f-6a72-418e-8c27-44db11223759"
      },
      "source": [
        "from sklearn.ensemble import RandomForestClassifier\n",
        "\n",
        "scaler = StandardScaler().fit(X1_train)\n",
        "X1_train_scaled = scaler.transform(X1_train)\n",
        "X1_test_scaled = scaler.transform(X1_test)\n",
        "\n",
        "# Used max_features = sqrt(total # of predictors/features) = sqrt(3)~2\n",
        "for_mod = RandomForestClassifier(n_estimators = 200, max_features = 2)\n",
        "\n",
        "# Tuning for number of trees to evaluate\n",
        "p_grid_for = {'n_estimators': [100, 200, 300, 400, 500]}\n",
        "\n",
        "grid_for = GridSearchCV(for_mod, p_grid_for, cv=10)\n",
        "grid_for.fit(X1_train_scaled, y1_train)\n",
        "\n",
        "print(\"Random Forest Classifier Model (Scaled)\")\n",
        "print(\"best mean cross-validation score: {:.3f}\".format(grid_for.best_score_))\n",
        "print(\"best parameters: {}\".format(grid_for.best_params_))\n",
        "print(\"test-set score: {:.3f}\".format(grid_for.score(X1_test_scaled, y1_test)))"
      ],
      "execution_count": 272,
      "outputs": [
        {
          "output_type": "stream",
          "text": [
            "Random Forest Classifier Model (Scaled)\n",
            "best mean cross-validation score: 0.838\n",
            "best parameters: {'n_estimators': 500}\n",
            "test-set score: 0.831\n"
          ],
          "name": "stdout"
        }
      ]
    },
    {
      "cell_type": "code",
      "metadata": {
        "id": "lQIc9R_CmAw2",
        "colab": {
          "base_uri": "https://localhost:8080/"
        },
        "outputId": "2fda20bf-1da4-4b44-de0a-6b0d28db0538"
      },
      "source": [
        "print(\"With 3 variables\")\n",
        "print(\" \")\n",
        "print(\"KNN Classifier (Scaled)\")\n",
        "print(\"best mean cross-validation score: {:.3f}\".format(grid_knn1.best_score_))\n",
        "print(\"test-set score: {:.3f}\".format(grid_knn1.score(X1_test, y1_test)))\n",
        "print(\" \")\n",
        "print(\"L2 Penalized Logistic Regression (Scaled)\")\n",
        "print(\"best mean cross-validation score: {:.3f}\".format(grid_plog.best_score_))\n",
        "print(\"test-set score: {:.3f}\".format(grid_plog.score(X1_test, y1_test)))\n",
        "print(\" \")\n",
        "print(\"Unpenalized Logistic Regression (Scaled)\")\n",
        "print(\"best mean cross-validation score: {:.3f}\".format(grid_ulog.best_score_))\n",
        "print(\"test-set score: {:.3f}\".format(grid_ulog.score(X1_test, y1_test)))\n",
        "print(\" \")\n",
        "print(\"Random Forest Classifier Model (Scaled)\")\n",
        "print(\"best mean cross-validation score: {:.3f}\".format(grid_for.best_score_))\n",
        "print(\"test-set score: {:.3f}\".format(grid_for.score(X1_test_scaled, y1_test)))"
      ],
      "execution_count": 273,
      "outputs": [
        {
          "output_type": "stream",
          "text": [
            "With 3 variables\n",
            " \n",
            "KNN Classifier (Scaled)\n",
            "best mean cross-validation score: 0.850\n",
            "test-set score: 0.844\n",
            " \n",
            "L2 Penalized Logistic Regression (Scaled)\n",
            "best mean cross-validation score: 0.825\n",
            "test-set score: 0.822\n",
            " \n",
            "Unpenalized Logistic Regression (Scaled)\n",
            "best mean cross-validation score: 0.825\n",
            "test-set score: 0.822\n",
            " \n",
            "Random Forest Classifier Model (Scaled)\n",
            "best mean cross-validation score: 0.838\n",
            "test-set score: 0.831\n"
          ],
          "name": "stdout"
        }
      ]
    },
    {
      "cell_type": "markdown",
      "metadata": {
        "id": "7HxTfDVj35Zh"
      },
      "source": [
        "---\n",
        "**We see that using only our 3 chosen variables in our model, KNN Classification seems to have the best CV and test-data prediction scores, followed by Random Forest Classification, and then both penalized and unpenalized logistic regression. Both types of logistic regression models gave identical scores.**\n",
        "\n",
        "---"
      ]
    },
    {
      "cell_type": "markdown",
      "metadata": {
        "id": "rD5RulU3GC_N"
      },
      "source": [
        "##**12:**"
      ]
    },
    {
      "cell_type": "markdown",
      "metadata": {
        "id": "m1NBwIsgGE0y"
      },
      "source": [
        "*Now rerun your best model from questions 8 through 11, but this time add three new variables to the model that you think will increase prediction accuracy.   Did this model predict test data better than your previous models?*"
      ]
    },
    {
      "cell_type": "markdown",
      "metadata": {
        "id": "UINKFF-VGG4W"
      },
      "source": [
        "---\n",
        "\n",
        "**The 3 extra variables I chose were 'char_freq_!', 'word_freq_credit', and 'word_freq_000'.**\n",
        "\n",
        "---"
      ]
    },
    {
      "cell_type": "code",
      "metadata": {
        "id": "Mn3OxZvJpbdk",
        "colab": {
          "base_uri": "https://localhost:8080/",
          "height": 400
        },
        "outputId": "c942f7b8-d357-44d5-d16d-179f99f61d10"
      },
      "source": [
        "# Proportion of characters in email being \"!\" histogram\n",
        "sns.catplot(x = 'spam', y = 'char_freq_!:', kind = \"box\", data = df)"
      ],
      "execution_count": 274,
      "outputs": [
        {
          "output_type": "execute_result",
          "data": {
            "text/plain": [
              "<seaborn.axisgrid.FacetGrid at 0x7f7c83c5e6d0>"
            ]
          },
          "metadata": {
            "tags": []
          },
          "execution_count": 274
        },
        {
          "output_type": "display_data",
          "data": {
            "image/png": "[encoded data removed]",
            "text/plain": [
              "<Figure size 360x360 with 1 Axes>"
            ]
          },
          "metadata": {
            "tags": [],
            "needs_background": "light"
          }
        }
      ]
    },
    {
      "cell_type": "code",
      "metadata": {
        "id": "4aReQKMNp7WC",
        "colab": {
          "base_uri": "https://localhost:8080/",
          "height": 400
        },
        "outputId": "02beede6-d730-41e4-e247-2190431ebdda"
      },
      "source": [
        "# Proportion of words in email being \"credit\" histogram\n",
        "sns.catplot(x = 'spam', y = 'word_freq_credit:', kind = \"box\", data = df)"
      ],
      "execution_count": 275,
      "outputs": [
        {
          "output_type": "execute_result",
          "data": {
            "text/plain": [
              "<seaborn.axisgrid.FacetGrid at 0x7f7c83bbe3d0>"
            ]
          },
          "metadata": {
            "tags": []
          },
          "execution_count": 275
        },
        {
          "output_type": "display_data",
          "data": {
            "image/png": "[encoded data removed]",
            "text/plain": [
              "<Figure size 360x360 with 1 Axes>"
            ]
          },
          "metadata": {
            "tags": [],
            "needs_background": "light"
          }
        }
      ]
    },
    {
      "cell_type": "code",
      "metadata": {
        "id": "CPYKnVB2qCXl",
        "colab": {
          "base_uri": "https://localhost:8080/",
          "height": 400
        },
        "outputId": "a24b4eb9-e7b7-483b-b380-afac6bb4760e"
      },
      "source": [
        "# Proportion of words in email being \"000\" histogram\n",
        "sns.catplot(x = 'spam', y = 'word_freq_000:', kind = \"box\", data = df)"
      ],
      "execution_count": 276,
      "outputs": [
        {
          "output_type": "execute_result",
          "data": {
            "text/plain": [
              "<seaborn.axisgrid.FacetGrid at 0x7f7c83b6fb10>"
            ]
          },
          "metadata": {
            "tags": []
          },
          "execution_count": 276
        },
        {
          "output_type": "display_data",
          "data": {
            "image/png": "[encoded data removed]",
            "text/plain": [
              "<Figure size 360x360 with 1 Axes>"
            ]
          },
          "metadata": {
            "tags": [],
            "needs_background": "light"
          }
        }
      ]
    },
    {
      "cell_type": "code",
      "metadata": {
        "id": "h5XHxY2rrZpD",
        "colab": {
          "base_uri": "https://localhost:8080/",
          "height": 195
        },
        "outputId": "73c93f01-81af-41f1-81a8-4532f7e90252"
      },
      "source": [
        "df_6v = df.loc[:, ['capital_run_length_average:', 'char_freq_$:', 'word_freq_free:', 'char_freq_!:', 'word_freq_credit:', 'word_freq_000:', 'spam']]\n",
        "df_6v.head()"
      ],
      "execution_count": 277,
      "outputs": [
        {
          "output_type": "execute_result",
          "data": {
            "text/html": [
              "<div>\n",
              "<style scoped>\n",
              "    .dataframe tbody tr th:only-of-type {\n",
              "        vertical-align: middle;\n",
              "    }\n",
              "\n",
              "    .dataframe tbody tr th {\n",
              "        vertical-align: top;\n",
              "    }\n",
              "\n",
              "    .dataframe thead th {\n",
              "        text-align: right;\n",
              "    }\n",
              "</style>\n",
              "<table border=\"1\" class=\"dataframe\">\n",
              "  <thead>\n",
              "    <tr style=\"text-align: right;\">\n",
              "      <th></th>\n",
              "      <th>capital_run_length_average:</th>\n",
              "      <th>char_freq_$:</th>\n",
              "      <th>word_freq_free:</th>\n",
              "      <th>char_freq_!:</th>\n",
              "      <th>word_freq_credit:</th>\n",
              "      <th>word_freq_000:</th>\n",
              "      <th>spam</th>\n",
              "    </tr>\n",
              "  </thead>\n",
              "  <tbody>\n",
              "    <tr>\n",
              "      <th>0</th>\n",
              "      <td>3.756</td>\n",
              "      <td>0.000</td>\n",
              "      <td>0.32</td>\n",
              "      <td>0.778</td>\n",
              "      <td>0.00</td>\n",
              "      <td>0.00</td>\n",
              "      <td>1</td>\n",
              "    </tr>\n",
              "    <tr>\n",
              "      <th>1</th>\n",
              "      <td>5.114</td>\n",
              "      <td>0.180</td>\n",
              "      <td>0.14</td>\n",
              "      <td>0.372</td>\n",
              "      <td>0.00</td>\n",
              "      <td>0.43</td>\n",
              "      <td>1</td>\n",
              "    </tr>\n",
              "    <tr>\n",
              "      <th>2</th>\n",
              "      <td>9.821</td>\n",
              "      <td>0.184</td>\n",
              "      <td>0.06</td>\n",
              "      <td>0.276</td>\n",
              "      <td>0.32</td>\n",
              "      <td>1.16</td>\n",
              "      <td>1</td>\n",
              "    </tr>\n",
              "    <tr>\n",
              "      <th>3</th>\n",
              "      <td>3.537</td>\n",
              "      <td>0.000</td>\n",
              "      <td>0.31</td>\n",
              "      <td>0.137</td>\n",
              "      <td>0.00</td>\n",
              "      <td>0.00</td>\n",
              "      <td>1</td>\n",
              "    </tr>\n",
              "    <tr>\n",
              "      <th>4</th>\n",
              "      <td>3.537</td>\n",
              "      <td>0.000</td>\n",
              "      <td>0.31</td>\n",
              "      <td>0.135</td>\n",
              "      <td>0.00</td>\n",
              "      <td>0.00</td>\n",
              "      <td>1</td>\n",
              "    </tr>\n",
              "  </tbody>\n",
              "</table>\n",
              "</div>"
            ],
            "text/plain": [
              "   capital_run_length_average:  char_freq_$:  ...  word_freq_000:  spam\n",
              "0                        3.756         0.000  ...            0.00     1\n",
              "1                        5.114         0.180  ...            0.43     1\n",
              "2                        9.821         0.184  ...            1.16     1\n",
              "3                        3.537         0.000  ...            0.00     1\n",
              "4                        3.537         0.000  ...            0.00     1\n",
              "\n",
              "[5 rows x 7 columns]"
            ]
          },
          "metadata": {
            "tags": []
          },
          "execution_count": 277
        }
      ]
    },
    {
      "cell_type": "code",
      "metadata": {
        "id": "dFqKCMEUGHP2",
        "colab": {
          "base_uri": "https://localhost:8080/",
          "height": 296
        },
        "outputId": "5236e103-903c-4539-e901-3dd701ea7231"
      },
      "source": [
        "y2 = df_6v['spam']\n",
        "X2 = df_6v.loc[:, df_6v.columns != 'spam']\n",
        "\n",
        "print(y2[0:5])\n",
        "X2.head()"
      ],
      "execution_count": 278,
      "outputs": [
        {
          "output_type": "stream",
          "text": [
            "0    1\n",
            "1    1\n",
            "2    1\n",
            "3    1\n",
            "4    1\n",
            "Name: spam, dtype: int64\n"
          ],
          "name": "stdout"
        },
        {
          "output_type": "execute_result",
          "data": {
            "text/html": [
              "<div>\n",
              "<style scoped>\n",
              "    .dataframe tbody tr th:only-of-type {\n",
              "        vertical-align: middle;\n",
              "    }\n",
              "\n",
              "    .dataframe tbody tr th {\n",
              "        vertical-align: top;\n",
              "    }\n",
              "\n",
              "    .dataframe thead th {\n",
              "        text-align: right;\n",
              "    }\n",
              "</style>\n",
              "<table border=\"1\" class=\"dataframe\">\n",
              "  <thead>\n",
              "    <tr style=\"text-align: right;\">\n",
              "      <th></th>\n",
              "      <th>capital_run_length_average:</th>\n",
              "      <th>char_freq_$:</th>\n",
              "      <th>word_freq_free:</th>\n",
              "      <th>char_freq_!:</th>\n",
              "      <th>word_freq_credit:</th>\n",
              "      <th>word_freq_000:</th>\n",
              "    </tr>\n",
              "  </thead>\n",
              "  <tbody>\n",
              "    <tr>\n",
              "      <th>0</th>\n",
              "      <td>3.756</td>\n",
              "      <td>0.000</td>\n",
              "      <td>0.32</td>\n",
              "      <td>0.778</td>\n",
              "      <td>0.00</td>\n",
              "      <td>0.00</td>\n",
              "    </tr>\n",
              "    <tr>\n",
              "      <th>1</th>\n",
              "      <td>5.114</td>\n",
              "      <td>0.180</td>\n",
              "      <td>0.14</td>\n",
              "      <td>0.372</td>\n",
              "      <td>0.00</td>\n",
              "      <td>0.43</td>\n",
              "    </tr>\n",
              "    <tr>\n",
              "      <th>2</th>\n",
              "      <td>9.821</td>\n",
              "      <td>0.184</td>\n",
              "      <td>0.06</td>\n",
              "      <td>0.276</td>\n",
              "      <td>0.32</td>\n",
              "      <td>1.16</td>\n",
              "    </tr>\n",
              "    <tr>\n",
              "      <th>3</th>\n",
              "      <td>3.537</td>\n",
              "      <td>0.000</td>\n",
              "      <td>0.31</td>\n",
              "      <td>0.137</td>\n",
              "      <td>0.00</td>\n",
              "      <td>0.00</td>\n",
              "    </tr>\n",
              "    <tr>\n",
              "      <th>4</th>\n",
              "      <td>3.537</td>\n",
              "      <td>0.000</td>\n",
              "      <td>0.31</td>\n",
              "      <td>0.135</td>\n",
              "      <td>0.00</td>\n",
              "      <td>0.00</td>\n",
              "    </tr>\n",
              "  </tbody>\n",
              "</table>\n",
              "</div>"
            ],
            "text/plain": [
              "   capital_run_length_average:  char_freq_$:  ...  word_freq_credit:  word_freq_000:\n",
              "0                        3.756         0.000  ...               0.00            0.00\n",
              "1                        5.114         0.180  ...               0.00            0.43\n",
              "2                        9.821         0.184  ...               0.32            1.16\n",
              "3                        3.537         0.000  ...               0.00            0.00\n",
              "4                        3.537         0.000  ...               0.00            0.00\n",
              "\n",
              "[5 rows x 6 columns]"
            ]
          },
          "metadata": {
            "tags": []
          },
          "execution_count": 278
        }
      ]
    },
    {
      "cell_type": "markdown",
      "metadata": {
        "id": "F3MxJyGnnYmH"
      },
      "source": [
        "**Train-test splitting our data.**"
      ]
    },
    {
      "cell_type": "code",
      "metadata": {
        "id": "O2vckA0QnYmI",
        "colab": {
          "base_uri": "https://localhost:8080/",
          "height": 296
        },
        "outputId": "4886a42a-4593-4b0e-bbaa-208817bcafb7"
      },
      "source": [
        "from sklearn.model_selection import train_test_split\n",
        "\n",
        "X2_train, X2_test, y2_train, y2_test = train_test_split(X2, y2, random_state=0)\n",
        "\n",
        "print(y2_train[0:5])\n",
        "X2_train.head()"
      ],
      "execution_count": 279,
      "outputs": [
        {
          "output_type": "stream",
          "text": [
            "118     1\n",
            "261     1\n",
            "598     1\n",
            "1770    1\n",
            "905     1\n",
            "Name: spam, dtype: int64\n"
          ],
          "name": "stdout"
        },
        {
          "output_type": "execute_result",
          "data": {
            "text/html": [
              "<div>\n",
              "<style scoped>\n",
              "    .dataframe tbody tr th:only-of-type {\n",
              "        vertical-align: middle;\n",
              "    }\n",
              "\n",
              "    .dataframe tbody tr th {\n",
              "        vertical-align: top;\n",
              "    }\n",
              "\n",
              "    .dataframe thead th {\n",
              "        text-align: right;\n",
              "    }\n",
              "</style>\n",
              "<table border=\"1\" class=\"dataframe\">\n",
              "  <thead>\n",
              "    <tr style=\"text-align: right;\">\n",
              "      <th></th>\n",
              "      <th>capital_run_length_average:</th>\n",
              "      <th>char_freq_$:</th>\n",
              "      <th>word_freq_free:</th>\n",
              "      <th>char_freq_!:</th>\n",
              "      <th>word_freq_credit:</th>\n",
              "      <th>word_freq_000:</th>\n",
              "    </tr>\n",
              "  </thead>\n",
              "  <tbody>\n",
              "    <tr>\n",
              "      <th>118</th>\n",
              "      <td>102.666</td>\n",
              "      <td>0.000</td>\n",
              "      <td>0.00</td>\n",
              "      <td>0.542</td>\n",
              "      <td>1.28</td>\n",
              "      <td>0.00</td>\n",
              "    </tr>\n",
              "    <tr>\n",
              "      <th>261</th>\n",
              "      <td>5.423</td>\n",
              "      <td>0.707</td>\n",
              "      <td>1.11</td>\n",
              "      <td>0.862</td>\n",
              "      <td>0.00</td>\n",
              "      <td>0.00</td>\n",
              "    </tr>\n",
              "    <tr>\n",
              "      <th>598</th>\n",
              "      <td>2.551</td>\n",
              "      <td>0.000</td>\n",
              "      <td>0.00</td>\n",
              "      <td>3.333</td>\n",
              "      <td>0.00</td>\n",
              "      <td>0.00</td>\n",
              "    </tr>\n",
              "    <tr>\n",
              "      <th>1770</th>\n",
              "      <td>5.210</td>\n",
              "      <td>0.000</td>\n",
              "      <td>3.26</td>\n",
              "      <td>2.152</td>\n",
              "      <td>0.00</td>\n",
              "      <td>0.00</td>\n",
              "    </tr>\n",
              "    <tr>\n",
              "      <th>905</th>\n",
              "      <td>2.441</td>\n",
              "      <td>0.433</td>\n",
              "      <td>0.00</td>\n",
              "      <td>0.433</td>\n",
              "      <td>0.00</td>\n",
              "      <td>0.76</td>\n",
              "    </tr>\n",
              "  </tbody>\n",
              "</table>\n",
              "</div>"
            ],
            "text/plain": [
              "      capital_run_length_average:  ...  word_freq_000:\n",
              "118                       102.666  ...            0.00\n",
              "261                         5.423  ...            0.00\n",
              "598                         2.551  ...            0.00\n",
              "1770                        5.210  ...            0.00\n",
              "905                         2.441  ...            0.76\n",
              "\n",
              "[5 rows x 6 columns]"
            ]
          },
          "metadata": {
            "tags": []
          },
          "execution_count": 279
        }
      ]
    },
    {
      "cell_type": "markdown",
      "metadata": {
        "id": "33FVl97wiD8i"
      },
      "source": [
        "###**KNN Classification**"
      ]
    },
    {
      "cell_type": "code",
      "metadata": {
        "id": "e0a55qOseZRt"
      },
      "source": [
        "from sklearn.preprocessing import StandardScaler\n",
        "from sklearn.model_selection import GridSearchCV"
      ],
      "execution_count": 280,
      "outputs": []
    },
    {
      "cell_type": "code",
      "metadata": {
        "id": "qpcwTvJieZR2",
        "colab": {
          "base_uri": "https://localhost:8080/"
        },
        "outputId": "467cfae4-36f0-4406-8945-f7c74f7171ef"
      },
      "source": [
        "from sklearn.neighbors import KNeighborsClassifier\n",
        "\n",
        "# To tune the parameter defining number of k neighbors\n",
        "knn2_pipe = make_pipeline(StandardScaler(), KNeighborsClassifier())\n",
        "p_grid_knn2 = {'kneighborsclassifier__n_neighbors': [1,3,5,7,9,11,13,15]}\n",
        "\n",
        "grid_knn2 = GridSearchCV(knn2_pipe, p_grid_knn2, cv=10)\n",
        "grid_knn2.fit(X2_train, y2_train)\n",
        "\n",
        "print(\"KNN Classifier (Scaled)\")\n",
        "print(\"best mean cross-validation score: {:.3f}\".format(grid_knn2.best_score_))\n",
        "print(\"best parameters: {}\".format(grid_knn2.best_params_))\n",
        "print(\"test-set score: {:.3f}\".format(grid_knn2.score(X2_test, y2_test)))"
      ],
      "execution_count": 281,
      "outputs": [
        {
          "output_type": "stream",
          "text": [
            "KNN Classifier (Scaled)\n",
            "best mean cross-validation score: 0.881\n",
            "best parameters: {'kneighborsclassifier__n_neighbors': 9}\n",
            "test-set score: 0.874\n"
          ],
          "name": "stdout"
        }
      ]
    },
    {
      "cell_type": "markdown",
      "metadata": {
        "id": "y0dfqyUM4wil"
      },
      "source": [
        "---\n",
        "**Yes, the KNN Classification model with 6 predictors had better CV and test-data prediction scores than all the previous models that were run with only 3 variables.**\n",
        "\n",
        "---"
      ]
    },
    {
      "cell_type": "markdown",
      "metadata": {
        "id": "MRumxQ1dGQB3"
      },
      "source": [
        "##**13:**"
      ]
    },
    {
      "cell_type": "markdown",
      "metadata": {
        "id": "JTObUJKcGSOx"
      },
      "source": [
        "*Rerun all your other models with this final set of six variables, evaluate prediction error, and choose a final model.  Why did you select this model among all of the models that you ran?*"
      ]
    },
    {
      "cell_type": "markdown",
      "metadata": {
        "id": "jzVY3Ws9nzXF"
      },
      "source": [
        "####**Penalized (L2) Logistic Regression**"
      ]
    },
    {
      "cell_type": "code",
      "metadata": {
        "id": "8gEe0kb0nzXG",
        "colab": {
          "base_uri": "https://localhost:8080/"
        },
        "outputId": "635f085c-0b65-4f14-968f-e9e6706aed14"
      },
      "source": [
        "from sklearn.linear_model import LogisticRegression\n",
        "\n",
        "plog_pipe2 = make_pipeline(StandardScaler(), LogisticRegression(penalty='l2'))\n",
        "\n",
        "# Tuning for the C parameter in the Ridge L2 penalty logistic regression\n",
        "p_grid_plog2 = {'logisticregression__C': [0.1, 1, 10, 100, 1000, 10000]}\n",
        "\n",
        "grid_plog2 = GridSearchCV(plog_pipe2, p_grid_plog2, cv=10)\n",
        "grid_plog2.fit(X2_train, y2_train)\n",
        "\n",
        "print(\"L2 Penalized Logistic Regression (Scaled)\")\n",
        "print(\"best mean cross-validation score: {:.3f}\".format(grid_plog2.best_score_))\n",
        "print(\"best parameters: {}\".format(grid_plog2.best_params_))\n",
        "print(\"test-set score: {:.3f}\".format(grid_plog2.score(X2_test, y2_test)))"
      ],
      "execution_count": 282,
      "outputs": [
        {
          "output_type": "stream",
          "text": [
            "L2 Penalized Logistic Regression (Scaled)\n",
            "best mean cross-validation score: 0.839\n",
            "best parameters: {'logisticregression__C': 100}\n",
            "test-set score: 0.834\n"
          ],
          "name": "stdout"
        }
      ]
    },
    {
      "cell_type": "markdown",
      "metadata": {
        "id": "6BNk_vuwnzXI"
      },
      "source": [
        "####**Unpenalized Logistic Regression**"
      ]
    },
    {
      "cell_type": "code",
      "metadata": {
        "id": "VKGlrbSfnzXI",
        "colab": {
          "base_uri": "https://localhost:8080/"
        },
        "outputId": "59b9244f-520f-4a52-9b8d-37e7fa9df357"
      },
      "source": [
        "from sklearn.linear_model import LogisticRegression\n",
        "from sklearn.model_selection import cross_val_score\n",
        "\n",
        "scaler = StandardScaler().fit(X2_train)\n",
        "X2_train_scaled = scaler.transform(X2_train)\n",
        "X2_test_scaled = scaler.transform(X2_test)\n",
        "\n",
        "ulog2 = LogisticRegression(penalty='none')\n",
        "ulog2.fit(X2_train_scaled, y2_train)\n",
        "\n",
        "print(\"Unpenalized Logistic Regression (Scaled)\")\n",
        "print(\"best mean cross-validation score: {:.3f}\".format(cross_val_score(ulog2, X2_train_scaled, y2_train, cv=10, scoring='accuracy').mean()))\n",
        "print(\"test-set score: {:.3f}\".format(ulog2.score(X2_test_scaled, y2_test)))\n",
        "\n",
        "# No parameters to tune in unpenalized logistic regression"
      ],
      "execution_count": 283,
      "outputs": [
        {
          "output_type": "stream",
          "text": [
            "Unpenalized Logistic Regression (Scaled)\n",
            "best mean cross-validation score: 0.839\n",
            "test-set score: 0.834\n"
          ],
          "name": "stdout"
        }
      ]
    },
    {
      "cell_type": "markdown",
      "metadata": {
        "id": "v9CXLskhnzXJ"
      },
      "source": [
        "####**Random Forest Classifier**"
      ]
    },
    {
      "cell_type": "code",
      "metadata": {
        "id": "Eoj_D5r4nzXK",
        "colab": {
          "base_uri": "https://localhost:8080/"
        },
        "outputId": "85f4b414-a8ef-42c0-8ceb-fc76693355e0"
      },
      "source": [
        "from sklearn.ensemble import RandomForestClassifier\n",
        "\n",
        "scaler = StandardScaler().fit(X2_train)\n",
        "X2_train_scaled = scaler.transform(X2_train)\n",
        "X2_test_scaled = scaler.transform(X2_test)\n",
        "\n",
        "# Used max_features = sqrt(total # of predictors/features) = sqrt(6)~3\n",
        "for_mod2 = RandomForestClassifier(n_estimators = 200, max_features = 3)\n",
        "\n",
        "# Tuning for number of trees to evaluate\n",
        "p_grid_for2 = {'n_estimators': [100, 200, 300, 500, 600]}\n",
        "\n",
        "grid_for2 = GridSearchCV(for_mod2, p_grid_for2, cv=10)\n",
        "grid_for2.fit(X2_train_scaled, y2_train)\n",
        "\n",
        "print(\"Random Forest Classifier Model (Scaled)\")\n",
        "print(\"best mean cross-validation score: {:.3f}\".format(grid_for2.best_score_))\n",
        "print(\"best parameters: {}\".format(grid_for2.best_params_))\n",
        "print(\"test-set score: {:.3f}\".format(grid_for2.score(X2_test_scaled, y2_test)))"
      ],
      "execution_count": 284,
      "outputs": [
        {
          "output_type": "stream",
          "text": [
            "Random Forest Classifier Model (Scaled)\n",
            "best mean cross-validation score: 0.881\n",
            "best parameters: {'n_estimators': 100}\n",
            "test-set score: 0.893\n"
          ],
          "name": "stdout"
        }
      ]
    },
    {
      "cell_type": "code",
      "metadata": {
        "id": "31CxjRGwnzXK",
        "colab": {
          "base_uri": "https://localhost:8080/"
        },
        "outputId": "56671c6e-0d50-4d39-8aa0-db3c0d6d261a"
      },
      "source": [
        "print(\"With 6 variables\")\n",
        "print(\" \")\n",
        "print(\"KNN Classifier (Scaled)\")\n",
        "print(\"best mean cross-validation score: {:.3f}\".format(grid_knn2.best_score_))\n",
        "print(\"test-set score: {:.3f}\".format(grid_knn2.score(X2_test, y2_test)))\n",
        "print(\" \")\n",
        "print(\"L2 Penalized Logistic Regression (Scaled)\")\n",
        "print(\"best mean cross-validation score: {:.3f}\".format(grid_plog2.best_score_))\n",
        "print(\"test-set score: {:.3f}\".format(grid_plog2.score(X2_test, y2_test)))\n",
        "print(\" \")\n",
        "print(\"Unpenalized Logistic Regression (Scaled)\")\n",
        "print(\"best mean cross-validation score: {:.3f}\".format(grid_ulog2.best_score_))\n",
        "print(\"test-set score: {:.3f}\".format(grid_ulog2.score(X2_test, y2_test)))\n",
        "print(\" \")\n",
        "print(\"Random Forest Classifier Model (Scaled)\")\n",
        "print(\"best mean cross-validation score: {:.3f}\".format(grid_for2.best_score_))\n",
        "print(\"test-set score: {:.3f}\".format(grid_for2.score(X2_test_scaled, y2_test)))\n",
        "print(\" \")\n",
        "print(\" \")\n",
        "print(\"With 3 variables\")\n",
        "print(\" \")\n",
        "print(\"KNN Classifier (Scaled)\")\n",
        "print(\"best mean cross-validation score: {:.3f}\".format(grid_knn1.best_score_))\n",
        "print(\"test-set score: {:.3f}\".format(grid_knn1.score(X1_test, y1_test)))\n",
        "print(\" \")\n",
        "print(\"L2 Penalized Logistic Regression (Scaled)\")\n",
        "print(\"best mean cross-validation score: {:.3f}\".format(grid_plog.best_score_))\n",
        "print(\"test-set score: {:.3f}\".format(grid_plog.score(X1_test, y1_test)))\n",
        "print(\" \")\n",
        "print(\"Unpenalized Logistic Regression (Scaled)\")\n",
        "print(\"best mean cross-validation score: {:.3f}\".format(grid_ulog.best_score_))\n",
        "print(\"test-set score: {:.3f}\".format(grid_ulog.score(X1_test, y1_test)))\n",
        "print(\" \")\n",
        "print(\"Random Forest Classifier Model (Scaled)\")\n",
        "print(\"best mean cross-validation score: {:.3f}\".format(grid_for.best_score_))\n",
        "print(\"test-set score: {:.3f}\".format(grid_for.score(X1_test_scaled, y1_test)))"
      ],
      "execution_count": 285,
      "outputs": [
        {
          "output_type": "stream",
          "text": [
            "With 6 variables\n",
            " \n",
            "KNN Classifier (Scaled)\n",
            "best mean cross-validation score: 0.881\n",
            "test-set score: 0.874\n",
            " \n",
            "L2 Penalized Logistic Regression (Scaled)\n",
            "best mean cross-validation score: 0.839\n",
            "test-set score: 0.834\n",
            " \n",
            "Unpenalized Logistic Regression (Scaled)\n",
            "best mean cross-validation score: 0.839\n",
            "test-set score: 0.834\n",
            " \n",
            "Random Forest Classifier Model (Scaled)\n",
            "best mean cross-validation score: 0.881\n",
            "test-set score: 0.893\n",
            " \n",
            " \n",
            "With 3 variables\n",
            " \n",
            "KNN Classifier (Scaled)\n",
            "best mean cross-validation score: 0.850\n",
            "test-set score: 0.844\n",
            " \n",
            "L2 Penalized Logistic Regression (Scaled)\n",
            "best mean cross-validation score: 0.825\n",
            "test-set score: 0.822\n",
            " \n",
            "Unpenalized Logistic Regression (Scaled)\n",
            "best mean cross-validation score: 0.825\n",
            "test-set score: 0.822\n",
            " \n",
            "Random Forest Classifier Model (Scaled)\n",
            "best mean cross-validation score: 0.838\n",
            "test-set score: 0.831\n"
          ],
          "name": "stdout"
        }
      ]
    },
    {
      "cell_type": "markdown",
      "metadata": {
        "id": "L0Oc5JZA2guv"
      },
      "source": [
        "---\n",
        "**Now that we added 3 more variables to our initial 3 for a total of 6 predictor variables, we see that the Random Forest Classification and KNN Classification had the same CV prediction scores, but the Random Forest Classification model had a higher test-data prediction score. So for this reason, we will choose the Random Forest Classification model with 6 predictor variables as our final model.**\n",
        "\n",
        "---"
      ]
    },
    {
      "cell_type": "markdown",
      "metadata": {
        "id": "GE1QKmiTGXjJ"
      },
      "source": [
        "##**14:**"
      ]
    },
    {
      "cell_type": "markdown",
      "metadata": {
        "id": "9P66TfIUGdj-"
      },
      "source": [
        "*What variable that currently is not in your model, if included, would be likely to increase your final model's predictive power?  For this answer try to speculate about a variable outside the variables available in the data that would improve you model.*"
      ]
    },
    {
      "cell_type": "markdown",
      "metadata": {
        "id": "gnshUwU3WsTp"
      },
      "source": [
        "**A variable which counts the frequency of the word 'click' (word_freq_click) in an email. This is because 'click' is not an overused word in personal or professional email, but ubiquitous in spam email and ads of most kinds (given that the primary purpose of a spam email is to get the user click links to external, unverified websites.**\n",
        "\n",
        "**I think this variable would be effective in improving the predictive power of our model given that it is sensitive enough applicable to many kinds of spam emails (money schemes, advertisements, etc.), while being uncommon enough in traditional email settings as to have a low risk of incorrectly labeling email as spam when it is not.** "
      ]
    },
    {
      "cell_type": "markdown",
      "metadata": {
        "id": "4yckVZpbRUy6"
      },
      "source": [
        "##**15:**"
      ]
    },
    {
      "cell_type": "markdown",
      "metadata": {
        "id": "_ZKbCTUZRZNj"
      },
      "source": [
        "*Lastly, you have listed each of the models that we have learned to use to predict dependent variables like spam.  List each model we have focused on in class thus far that you could use to evaluate data with a continuous dependent variable.*"
      ]
    },
    {
      "cell_type": "markdown",
      "metadata": {
        "id": "S8GwL2kyRb95"
      },
      "source": [
        "**KNN Regression, Ridge Regresssion, Lasso Regression, Ordinary Least Squares (OLS) Regression, Bagging (bootstrap aggregation) Regression, and Random Forest Regression.**"
      ]
    }
  ]
}